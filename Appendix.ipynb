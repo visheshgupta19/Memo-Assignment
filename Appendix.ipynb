{
 "cells": [
  {
   "cell_type": "markdown",
   "id": "4c44a1e2",
   "metadata": {},
   "source": [
    "## Appendix: \n",
    "\n",
    "### Technical Supporting Documentation\n",
    "\n",
    "This section details the complete technical workflow, rationale, and implementation logic behind the visual and analytical components of the memo.  \n",
    "\n",
    "It documents how the raw data was preprocessed, aggregated, and post-processed for interpretation. Each decision from scaling functions to visualization styling is explained with its analytical justification.\n"
   ]
  },
  {
   "cell_type": "markdown",
   "id": "2ba71189",
   "metadata": {},
   "source": [
    "## 1. Dataset Overview and Cleaning\n",
    "\n",
    "The dataset `Coffee_sales.csv` consists of **3,547 transactional records** with columns such as:\n",
    "\n",
    "- `money`: revenue per transaction (numeric, continuous)  \n",
    "- `hour_of_day`: 24-hour timestamp of purchase  \n",
    "- `Weekday`: day of week (categorical)  \n",
    "- `coffee_name`: product purchased  \n",
    "- `Time_of_Day`: derived categorical variable  \n",
    "- `Weekdaysort`: numeric column for weekday sorting  \n",
    "\n",
    "The dataset contained no missing values in the key variables used for analysis.  \n",
    "Currency values were formatted as floats, rounded for readability in visualization.  \n",
    "Outliers (very high single-transaction amounts) were retained since they likely correspond to bulk orders operationally relevant for sales volume planning.\n"
   ]
  },
  {
   "cell_type": "markdown",
   "id": "cd2033a6",
   "metadata": {},
   "source": [
    "## 2. Feature Engineering\n",
    "\n",
    "Two key engineered features were created:  \n",
    "- **Time_of_Day** — derived from `hour_of_day` to represent broad customer behavior periods (Morning, Afternoon, Evening).  \n",
    "- **Weekdaysort** — assigns numeric order to weekdays for consistent plotting.\n",
    "\n",
    "The cutoffs for `Time_of_Day` were defined as:\n",
    "- Morning: 0 ≤ hour < 11  \n",
    "- Afternoon: 11 ≤ hour < 17  \n",
    "- Evening: 17 ≤ hour < 24  \n",
    "\n",
    "These bins align with typical coffee consumption and operational patterns (morning commute, midday office breaks, evening social visits).\n",
    "\n",
    "```python\n",
    "day_bins = [0, 11, 17, 24]\n",
    "day_labels = [\"Morning\", \"Afternoon\", \"Evening\"]\n",
    "df[\"Time_of_Day\"] = pd.cut(df[\"hour_of_day\"], bins=day_bins, labels=day_labels, right=False)\n",
    "\n",
    "weekday_order = [\"Monday\", \"Tuesday\", \"Wednesday\", \"Thursday\", \"Friday\", \"Saturday\", \"Sunday\"]\n",
    "df[\"Weekdaysort\"] = df[\"Weekday\"].apply(lambda x: weekday_order.index(x))\n",
    "\n",
    "```"
   ]
  },
  {
   "cell_type": "markdown",
   "id": "b07b6e26",
   "metadata": {},
   "source": [
    "## 3. Aggregation Logic\n",
    "\n",
    "Several aggregation layers were created to support different visual analyses.  \n",
    "Each aggregation corresponds to a managerial insight discussed in the memo:\n",
    "\n",
    "| Aggregation        | Purpose                              | Analytical Rationale                                     |\n",
    "| ------------------ | ------------------------------------ | -------------------------------------------------------- |\n",
    "| `sales_by_hour`    | Total sales by hour                  | Identifies intra-day peaks and operational “rush hours.” |\n",
    "| `sales_by_weekday` | Total sales by day                   | Distinguishes weekday vs. weekend trends.                |\n",
    "| `sales_by_coffee`  | Total sales by product               | Ranks products by contribution to revenue.               |\n",
    "| `pivot_sales`      | 2D pivot (Weekday × Time_of_Day)     | Enables heatmap of sales by time and day.                |\n",
    "| `coffee_heatmap`   | 2D pivot (Coffee Type × Time_of_Day) | Visualizes product popularity across dayparts.           |\n"
   ]
  },
  {
   "cell_type": "markdown",
   "id": "5d6d1204",
   "metadata": {},
   "source": [
    "```python\n",
    "sales_by_hour = df.groupby(\"hour_of_day\", as_index=False)[\"money\"].sum()\n",
    "sales_by_weekday = (\n",
    "    df.groupby([\"Weekday\", \"Weekdaysort\"], as_index=False)[\"money\"].sum().sort_values(\"Weekdaysort\")\n",
    ")\n",
    "sales_by_coffee = (\n",
    "    df.groupby(\"coffee_name\", as_index=False)[\"money\"].sum().sort_values(\"money\", ascending=False)\n",
    ")\n",
    "pivot_sales = df.pivot_table(index=\"Weekday\", columns=\"Time_of_Day\", values=\"money\", aggfunc=\"sum\", fill_value=0)\n",
    "coffee_heatmap = df.pivot_table(index=\"coffee_name\", columns=\"Time_of_Day\", values=\"money\", aggfunc=\"sum\", fill_value=0)\n",
    "```"
   ]
  },
  {
   "cell_type": "markdown",
   "id": "83d3fd23",
   "metadata": {},
   "source": [
    "## 4. Post-Processing and Derived Metrics\n",
    "\n",
    "### 4.1 Normalization and Staffing Function\n",
    "\n",
    "A normalization and ceiling function was applied to translate sales intensity into a **recommended staffing level per hour**.\n",
    "\n",
    "```python\n",
    "import math\n",
    "hour_sales = sales_by_hour.set_index(\"hour_of_day\")[\"money\"]\n",
    "normalized = hour_sales / hour_sales.max()\n",
    "recommended_staff = (normalized * 5).apply(math.ceil) + 1\n",
    "```\n",
    "\n",
    "Explanation:\n",
    "\n",
    "- The variable `hour_sales` gives absolute sales by hour.\n",
    "\n",
    "- Dividing by `hour_sales.max()` scales all values between 0–1 (min–max normalization).\n",
    "\n",
    "- Multiplying by 5 scales the range to 0–5, roughly reflecting relative labor intensity for a small café (where 5 employees represent peak coverage).\n",
    "\n",
    "- Applying `math.ceil()` ensures discrete staff counts (no fractions).\n",
    "\n",
    "- Adding +1 ensures a minimum staffing baseline even during off-peak hours.\n",
    "\n",
    "This heuristic-based transformation mirrors real-world scheduling logic: sales intensity correlates with labor need, but always requires minimum coverage for operations and safety."
   ]
  },
  {
   "cell_type": "markdown",
   "id": "67f00893",
   "metadata": {},
   "source": [
    "## 5. Reproducibility and Analytical Assumptions\n",
    "\n",
    "- **Environment:**  \n",
    "  Python 3.10.  \n",
    "  Libraries: `pandas 2.x`, `numpy 1.26+`, `matplotlib 3.8+`, `seaborn 0.13+`.\n",
    "\n",
    "- **Assumptions:**  \n",
    "  1. Sales volume correlates linearly with staffing demand (sufficient for aggregate-level scheduling).  \n",
    "  2. Customer arrival patterns are consistent across stores in the region.  \n",
    "  3. No external seasonality or promotional data were included; patterns are purely temporal.\n",
    "\n",
    "- **Reproducibility:**  \n",
    "  Each cell is modular; parameters such as scaling factor (`5` in the staffing heuristic) or top product filter (`K` in product analysis) can be modified to test alternative operational scenarios.\n",
    "\n"
   ]
  }
 ],
 "metadata": {
  "language_info": {
   "name": "python"
  }
 },
 "nbformat": 4,
 "nbformat_minor": 5
}
